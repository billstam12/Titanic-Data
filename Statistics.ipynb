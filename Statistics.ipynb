{
 "cells": [
  {
   "cell_type": "code",
   "execution_count": 23,
   "metadata": {},
   "outputs": [],
   "source": [
    "import string\n",
    "import numpy as np\n",
    "import pandas as pd\n",
    "%config IPCompleter.greedy=True"
   ]
  },
  {
   "cell_type": "code",
   "execution_count": 24,
   "metadata": {},
   "outputs": [],
   "source": [
    "def substrings_in_string(big_string, substrings):\n",
    "\tfor substring in substrings:\n",
    "\t\tif string.find(big_string, substring) != -1:\n",
    "\t\t\treturn substring\n",
    "\n",
    "def replace_titles(x):\n",
    "\ttitle = x['Title']\n",
    "\tif title in ['Don', 'Major', 'Capt', 'Jonkheer', 'Rev', 'Col']:\n",
    "\t\treturn 'Mr'\n",
    "\telif title in ['Countess', 'Mme']:\n",
    "\t\treturn 'Mrs'\n",
    "\telif title in ['Mlle', 'Ms']:\n",
    "\t\treturn 'Miss'\n",
    "\telif title =='Dr':\n",
    "\t\tif x['Sex']=='Male':\n",
    "\t\t\treturn 'Mr'\n",
    "\t\telse:\n",
    "\t\t\treturn 'Mrs'\n",
    "\telse:\n",
    "\t\treturn title\n"
   ]
  },
  {
   "cell_type": "code",
   "execution_count": 25,
   "metadata": {},
   "outputs": [],
   "source": [
    "train_set = pd.read_csv(\"datasets/train.csv\")\n"
   ]
  },
  {
   "cell_type": "code",
   "execution_count": 37,
   "metadata": {},
   "outputs": [],
   "source": [
    "title_list=['Mrs', 'Mr', 'Master', 'Miss', 'Major', 'Rev',\n",
    "                    'Dr', 'Ms', 'Mlle','Col', 'Capt', 'Mme', 'Countess',\n",
    "                    'Don', 'Jonkheer']\n",
    "\n",
    "train_set['Title'] = train_set[\"Name\"].map(lambda x: substrings_in_string(x, title_list))\n",
    "train_set['Title'] = train_set.apply(replace_titles, axis =  1)\n",
    "\n",
    "# Turn cabin into deck\n",
    "\n",
    "train_set.Cabin = train_set.Cabin.fillna('Unknown')    \n",
    "cabin_list = ['A', 'B', 'C', 'D', 'E', 'F', 'T', 'G', 'Unknown']\n",
    "train_set['Deck']=train_set['Cabin'].map(lambda x: substrings_in_string(x, cabin_list))"
   ]
  },
  {
   "cell_type": "markdown",
   "metadata": {},
   "source": [
    "ANALYZING DATA"
   ]
  },
  {
   "cell_type": "code",
   "execution_count": null,
   "metadata": {},
   "outputs": [],
   "source": []
  },
  {
   "cell_type": "code",
   "execution_count": 27,
   "metadata": {},
   "outputs": [],
   "source": [
    "############### Get some statistics #######################\n",
    "\n",
    "############### Those who survived versus those who didn't#"
   ]
  },
  {
   "cell_type": "code",
   "execution_count": 28,
   "metadata": {
    "scrolled": true
   },
   "outputs": [
    {
     "data": {
      "image/png": "[encoded data removed]",
      "text/plain": [
       "<matplotlib.figure.Figure at 0xac42a58>"
      ]
     },
     "metadata": {},
     "output_type": "display_data"
    }
   ],
   "source": [
    "survived_set = train_set.loc[train_set[\"Survived\"] == 1, :]\n",
    "dead_set = train_set.loc[train_set[\"Survived\"] == 0, :]\n",
    "\n",
    "survived_females = survived_set.loc[survived_set[\"Sex\"] == 'female',:]\n",
    "survived_males =   survived_set.loc[survived_set[\"Sex\"] == 'male',:]\n",
    "\n",
    "dead_females = dead_set.loc[dead_set[\"Sex\"] == 'female',:]\n",
    "dead_males = dead_set.loc[dead_set[\"Sex\"] == 'male',:]\n",
    "\n",
    "smn = survived_males.shape[0]\n",
    "sfn = survived_females.shape[0]\n",
    "dmn = dead_males.shape[0]\n",
    "dfn = dead_females.shape[0]\n",
    "\n",
    "import matplotlib.pyplot as pp\n",
    "\n",
    "fig, axes = pp.subplots(nrows = 1, ncols = 2)\n",
    "pp.axes(axes[0])\n",
    "survived = pp.bar([0.5, 3.5], [smn, sfn], width = 1, color='#3BB200')\n",
    "died =  pp.bar ([1.5, 4.5], [dmn, dfn], width = 1, color= 'red')\n",
    "\n",
    "pp.xticks([1,4], ('Male', 'Female'))\n",
    "pp.ylabel('Number of passengers')\n",
    "pp.legend((survived,died), ('Survived', 'Died'), loc = 0, fontsize = 'medium')\n",
    "#fractions\n",
    "pp.axes(axes[1])\n",
    "survived_pct = pp.bar([0.5, 3.5], [smn/(smn+dmn), sfn/(sfn+dfn)], width =1, color='#3BB200')\n",
    "dead_pct = pp.bar([1.5, 4.5], [dmn/(smn+dmn), dfn/(sfn+dfn)], width = 1, color='red')\n",
    "\n",
    "pp.xticks([1,4], ('Male', 'Female'))\n",
    "pp.ylabel('Franctions of passengers')\n",
    "pp.legend((survived_pct,dead_pct), ('Survived', 'Died'), fontsize = 'medium')\n",
    "fig.suptitle('Sex vs. survival', fontsize = 'x-large', y=1.03)\n",
    "pp.tight_layout()\n",
    "pp.show()"
   ]
  },
  {
   "cell_type": "code",
   "execution_count": 29,
   "metadata": {},
   "outputs": [
    {
     "data": {
      "image/png": "[encoded data removed]",
      "text/plain": [
       "<matplotlib.figure.Figure at 0xac2fb70>"
      ]
     },
     "metadata": {},
     "output_type": "display_data"
    }
   ],
   "source": [
    "\n",
    "##################### Now Find correlation between survival and age######################\n",
    "def checkNans(arr, arr2=None):\n",
    "    mask_nan = pd.isnull(arr) # using pandas isnull to also operate\n",
    "                              # on string fields\n",
    "    if mask_nan.sum()>0:\n",
    "        any_nan = True\n",
    "    else:\n",
    "        any_nan = False\n",
    "    n_nan = mask_nan.sum()\n",
    "    \n",
    "    masked_arr = arr[~mask_nan]\n",
    "    if arr2 is not None:\n",
    "        masked_arr2 = arr2[~mask_nan]\n",
    "    else: \n",
    "        masked_arr2 = None\n",
    "\n",
    "    return any_nan, masked_arr, masked_arr2, n_nan, mask_nan\n",
    "\n",
    "survived_age = checkNans(survived_set['Age'])[1]\n",
    "dead_age = checkNans(dead_set['Age'])[1]\n",
    "\n",
    "stacked = np.hstack((survived_age, dead_age))\n",
    "bins = np.histogram(stacked, bins = 16, range = (0,stacked.max()))[1]\n",
    "\n",
    "survived = pp.hist(survived_age, bins, normed=1, facecolor='green', alpha=0.5)\n",
    "dead = pp.hist(dead_age, bins, normed=1, facecolor='red', alpha=0.5)\n",
    "\n",
    "import matplotlib.patches as mpatches\n",
    "survived_handle = mpatches.Patch(facecolor='green', alpha =0.5, label = 'Survived', edgecolor= 'black')\n",
    "dead_handle = mpatches.Patch(facecolor = 'red' , alpha =0.6, label = 'Dead', edgecolor = 'black')\n",
    "\n",
    "pp.legend((survived_handle,dead_handle), ('Survived', 'Died'), loc = 0, fontsize = 'medium')\n",
    "\n",
    "pp.title('Age vs. survival', fontsize = 'x-large', y=1.02)\n",
    "pp.xlabel('Age [years]')\n",
    "pp.ylabel('Fraction')\n",
    "pp.xlim([0,stacked.max()])\n",
    "pp.tight_layout()\n",
    "pp.show()\n"
   ]
  },
  {
   "cell_type": "code",
   "execution_count": 30,
   "metadata": {},
   "outputs": [
    {
     "data": {
      "image/png": "[encoded data removed]",
      "text/plain": [
       "<matplotlib.figure.Figure at 0xbca29e8>"
      ]
     },
     "metadata": {},
     "output_type": "display_data"
    }
   ],
   "source": [
    "\n",
    "sma = checkNans(survived_males['Age'])[1]\n",
    "dma = checkNans(dead_males['Age'])[1]\n",
    "sfa= checkNans(survived_females['Age'])[1]\n",
    "dfa = checkNans(dead_females['Age'])[1]\n",
    "\n",
    "fig, axes = pp.subplots(nrows = 1, ncols = 2, figsize=(8,4), sharey= True)\n",
    "pp.axes(axes[0])\n",
    "\n",
    "survived_male = pp.hist(sma, bins, normed=1, facecolor = 'green', alpha=0.5)\n",
    "dead_male = pp.hist(dma, bins, normed = 1, facecolor = 'red', alpha=0.5)\n",
    "\n",
    "pp.legend((survived_handle,dead_handle), ('Survived', 'Died'), loc = 0, fontsize ='medium')\n",
    "\n",
    "pp.title('Male')\n",
    "pp.xlabel('Age [years]')\n",
    "pp.ylabel('Fraction')\n",
    "pp.xlim([0,stacked.max()]) # Using the same range as in the previous plot\n",
    "pp.tight_layout()\n",
    "\n",
    "pp.axes(axes[1])\n",
    "survived_female = pp.hist(sfa, bins, normed=1, facecolor = 'green', alpha=0.5)\n",
    "dead_female = pp.hist(dfa, bins, normed = 1, facecolor = 'red', alpha=0.5)\n",
    "\n",
    "pp.legend((survived_handle,dead_handle), ('Survived', 'Died'),  fontsize ='medium')\n",
    "\n",
    "pp.title('Female')\n",
    "pp.xlabel('Age [years]')\n",
    "pp.ylabel('Fraction')\n",
    "pp.xlim([0,stacked.max()]) # Using the same range as in the previous plot\n",
    "pp.tight_layout()\n",
    "\n",
    "fig.suptitle('Age vs. survival', fontsize = 'x-large', y=1.02)\n",
    "pp.show()"
   ]
  },
  {
   "cell_type": "code",
   "execution_count": 31,
   "metadata": {},
   "outputs": [
    {
     "data": {
      "image/png": "[encoded data removed]",
      "text/plain": [
       "<matplotlib.figure.Figure at 0xc8b7a90>"
      ]
     },
     "metadata": {},
     "output_type": "display_data"
    }
   ],
   "source": [
    "# CHECK CLASS NOW#\n",
    "\n",
    "survived_c1 = survived_set['Survived'].loc[survived_set['Pclass']==1]\n",
    "dead_c1 = dead_set['Survived'].loc[dead_set['Pclass']==1]\n",
    "\n",
    "survived_c2 = survived_set['Survived'].loc[survived_set['Pclass']==2]\n",
    "dead_c2 = dead_set['Survived'].loc[dead_set['Pclass']==2]\n",
    "\n",
    "survived_c3 = survived_set['Survived'].loc[survived_set['Pclass']==3]\n",
    "dead_c3 = dead_set['Survived'].loc[dead_set['Pclass']==3]\n",
    "\n",
    "s1n = survived_c1.shape[0]\n",
    "d1n = dead_c1.shape[0]\n",
    "s2n = survived_c2.shape[0]\n",
    "d2n = dead_c2.shape[0]\n",
    "s3n = survived_c3.shape[0]\n",
    "d3n = dead_c3.shape[0]\n",
    "\n",
    "fig, axes = pp.subplots(nrows = 1, ncols = 2)\n",
    "\n",
    "pp.axes(axes[0])\n",
    "survived = pp.bar([0.5,3.5,6.5], [s1n,s2n,s3n], color =\"green\", width=1)\n",
    "dead = pp.bar([1.5,4.5,7.5], [d1n,d2n,d3n], color =\"red\", width=1)\n",
    "\n",
    "pp.xticks([1.5,4.5,7.5],('1st Class', '2nd Class', '3rd Class'))\n",
    "pp.ylabel('No of passengers')\n",
    "pp.legend((survived, died), ('Survived', 'Died'), loc=0, \n",
    "          fontsize = 'medium')\n",
    "\n",
    "pp.axes(axes[1])\n",
    "survived = pp.bar([0.5,3.5,6.5], [s1n/(s1n+d1n),s2n/(s2n+d2n),s3n/(s3n+d3n)], color =\"green\", width=1)\n",
    "dead = pp.bar([1.5,4.5,7.5], [d1n/(s1n+d1n),d2n/(s2n+d2n),d3n/(s3n+d3n)], color =\"red\", width=1)\n",
    "pp.xticks([1.5,4.5,7.5],('1st Class', '2nd Class', '3rd Class'))\n",
    "pp.ylabel('Fraction')\n",
    "pp.legend((survived, died), ('Survived', 'Died'), loc='upper left',\n",
    "          fontsize = 'medium')\n",
    "fig.suptitle('Ticket class vs. survival', fontsize = 'x-large', y=1.03)\n",
    "pp.tight_layout()\n",
    "pp.show()"
   ]
  },
  {
   "cell_type": "markdown",
   "metadata": {},
   "source": [
    "# SIBLINGS AND FAMILY AGAINST SURVIVAL"
   ]
  },
  {
   "cell_type": "code",
   "execution_count": 32,
   "metadata": {
    "scrolled": true
   },
   "outputs": [
    {
     "data": {
      "image/png": "[encoded data removed]",
      "text/plain": [
       "<matplotlib.figure.Figure at 0xe954c50>"
      ]
     },
     "metadata": {},
     "output_type": "display_data"
    }
   ],
   "source": [
    "fig, axes = pp.subplots(nrows = 1, ncols = 2, figsize = (8,4), sharey=True)\n",
    "pp.axes(axes[0])\n",
    "survived_sib = survived_set['SibSp']\n",
    "dead_sib = dead_set['SibSp']\n",
    "\n",
    "#HISTOGRAM\n",
    "stacked =np.hstack((survived_sib,dead_sib))\n",
    "bins = np.histogram(stacked, bins=stacked.max()+1, range=(0,stacked.max()+1))[1]\n",
    "\n",
    "survived = pp.hist(survived_sib, bins, normed =1, facecolor='green', alpha=0.5)\n",
    "dead = pp.hist(dead_sib, bins, normed =1, facecolor='red',alpha=0.5)\n",
    "\n",
    "# Plot settings\n",
    "pp.legend((survived_handle, dead_handle), ('Survived', 'Died'), loc=0, \n",
    "          fontsize = 'medium') # Using the same legend handles as before\n",
    "pp.title('No. siblings+spouses vs. survival', fontsize = 'x-large', y=1.02)\n",
    "pp.xlabel('No. siblings+spouses')\n",
    "pp.ylabel('Fraction')\n",
    "pp.xticks(np.arange(train_set['SibSp'].max()+1)+0.5, \n",
    "          np.arange(train_set['SibSp'].max()+1))\n",
    "pp.xlim([0,stacked.max()+1])\n",
    "pp.axes(axes[1])\n",
    "survived_parents = survived_set['Parch']\n",
    "dead_parents = dead_set['Parch']\n",
    "stacked = np.hstack((survived_parents,dead_parents))\n",
    "\n",
    "survived = pp.hist(survived_parents, bins, normed =1, facecolor='green', alpha=0.5)\n",
    "dead = pp.hist(dead_parents, bins, normed =1, facecolor='red',alpha=0.5)\n",
    "\n",
    "# Plot settings\n",
    "pp.legend((survived_handle, dead_handle), ('Survived', 'Died'), loc=0, \n",
    "          fontsize = 'medium') # Using the same legend handles as before\n",
    "pp.title('No. Parents and Children vs. survival', fontsize = 'x-large', y=1.02)\n",
    "pp.xlabel('No. siblings+spouses')\n",
    "pp.ylabel('Fraction')\n",
    "pp.xticks(np.arange(train_set['SibSp'].max()+1)+0.5, \n",
    "          np.arange(train_set['SibSp'].max()+1))\n",
    "pp.xlim([0,stacked.max()+1])\n",
    "pp.tight_layout()\n",
    "pp.show()"
   ]
  },
  {
   "cell_type": "code",
   "execution_count": 33,
   "metadata": {},
   "outputs": [
    {
     "name": "stdout",
     "output_type": "stream",
     "text": [
      "Fraction of survived / died passengers within a certain bin\n"
     ]
    },
    {
     "name": "stderr",
     "output_type": "stream",
     "text": [
      "C:\\Users\\bills\\Anaconda2\\lib\\site-packages\\ipykernel_launcher.py:13: RuntimeWarning: invalid value encountered in divide\n",
      "  del sys.path[0]\n",
      "C:\\Users\\bills\\Anaconda2\\lib\\site-packages\\ipykernel_launcher.py:17: RuntimeWarning: invalid value encountered in divide\n"
     ]
    },
    {
     "data": {
      "image/png": "[encoded data removed]",
      "text/plain": [
       "<matplotlib.figure.Figure at 0xe103f98>"
      ]
     },
     "metadata": {},
     "output_type": "display_data"
    }
   ],
   "source": [
    "sibsp_classes = np.arange(train_set[\"SibSp\"].max()+1)\n",
    "sibsp_data = {'survived_n':np.array([]), 'survived_pct':np.array([]), \n",
    "              'dead_n':np.array([]), 'dead_pct':np.array([])}\n",
    "\n",
    "for ii in sibsp_classes:\n",
    "    sibsp_data[\"survived_\"+str(ii)] = survived_set[\"Survived\"].loc[survived_set['SibSp']==ii]\n",
    "    sibsp_data[\"survived_n\"] = np.append(sibsp_data[\"survived_n\"], np.array(sibsp_data[\"survived_\"+str(ii)].count()))\n",
    "    sibsp_data[\"dead_\"+str(ii)] = dead_set[\"Survived\"].loc[dead_set['SibSp']==ii]\n",
    "    sibsp_data[\"dead_n\"] = np.append(sibsp_data[\"dead_n\"], np.array(sibsp_data[\"dead_\"+str(ii)].count()))\n",
    "    \n",
    "sibsp_data['survived_pct'] = (sibsp_data['survived_n']/  \n",
    "                                              (sibsp_data['survived_n']+\n",
    "                                               sibsp_data['dead_n']))\n",
    "sibsp_data['survived_pct'][np.isnan(sibsp_data['survived_pct'])]=0\n",
    "sibsp_data['dead_pct'] = (sibsp_data['dead_n']/  \n",
    "                                              (sibsp_data['survived_n']+\n",
    "                                               sibsp_data['dead_n']))\n",
    "sibsp_data['dead_pct'][np.isnan(sibsp_data['dead_pct'])]=0\n",
    "\n",
    "\n",
    "survived_pct = pp.bar(np.arange(train_set['SibSp'].max()+1)*3+0.5, \n",
    "                      sibsp_data['survived_pct'], width=1, color='#3BB200')\n",
    "dead_pct = pp.bar(np.arange(train_set['SibSp'].max()+1)*3+1.5, \n",
    "                      sibsp_data['dead_pct'], width=1, color='red')\n",
    "pp.xticks(np.arange(train_set['SibSp'].max()+1)*3+1.5, \n",
    "          np.arange(train_set['SibSp'].max()+1))\n",
    "pp.xlim([0,(train_set['SibSp'].max()+1)*3])\n",
    "pp.xlabel('No. of siblings+spouse')\n",
    "pp.ylabel('Fraction')\n",
    "leg = pp.legend((survived_pct, dead_pct), ('Survived', 'Died'), \n",
    "                fontsize = 'medium', loc='upper left')\n",
    "pp.title('No. of siblings+spouse vs. survival', fontsize = \n",
    "         'x-large', y=1.03)\n",
    "pp.tight_layout()\n",
    "print('Fraction of survived / died passengers within a certain bin')\n",
    "pp.show()\n"
   ]
  },
  {
   "cell_type": "code",
   "execution_count": 34,
   "metadata": {},
   "outputs": [
    {
     "name": "stdout",
     "output_type": "stream",
     "text": [
      "Fraction of survived / died passengers within a certain bin\n"
     ]
    },
    {
     "data": {
      "image/png": "[encoded data removed]",
      "text/plain": [
       "<matplotlib.figure.Figure at 0xbdde7b8>"
      ]
     },
     "metadata": {},
     "output_type": "display_data"
    }
   ],
   "source": [
    "parch_classes = np.arange(train_set[\"Parch\"].max()+1)\n",
    "parch_data = {'survived_n':np.array([]), 'survived_pct':np.array([]), \n",
    "              'dead_n':np.array([]), 'dead_pct':np.array([])}\n",
    "\n",
    "for ii in parch_classes:\n",
    "    parch_data[\"survived_\"+str(ii)] = survived_set[\"Survived\"].loc[survived_set['Parch']==ii]\n",
    "    parch_data[\"survived_n\"] = np.append(parch_data[\"survived_n\"], np.array(parch_data[\"survived_\"+str(ii)].count()))\n",
    "    parch_data[\"dead_\"+str(ii)] = dead_set[\"Survived\"].loc[dead_set['Parch']==ii]\n",
    "    parch_data[\"dead_n\"] = np.append(parch_data[\"dead_n\"], np.array(parch_data[\"dead_\"+str(ii)].count()))\n",
    "    \n",
    "parch_data['survived_pct'] = (parch_data['survived_n']/  \n",
    "                                              (parch_data['survived_n']+\n",
    "                                               parch_data['dead_n']))\n",
    "parch_data['survived_pct'][np.isnan(parch_data['survived_pct'])]=0\n",
    "parch_data['dead_pct'] = (parch_data['dead_n']/  \n",
    "                                              (parch_data['survived_n']+\n",
    "                                               parch_data['dead_n']))\n",
    "parch_data['dead_pct'][np.isnan(parch_data['dead_pct'])]=0\n",
    "\n",
    "\n",
    "survived_pct = pp.bar(np.arange(train_set['Parch'].max()+1)*3+0.5, \n",
    "                      parch_data['survived_pct'], width=1, color='#3BB200')\n",
    "dead_pct = pp.bar(np.arange(train_set['Parch'].max()+1)*3+1.5, \n",
    "                      parch_data['dead_pct'], width=1, color='red')\n",
    "pp.xticks(np.arange(train_set['Parch'].max()+1)*3+1.5, \n",
    "          np.arange(train_set['Parch'].max()+1))\n",
    "pp.xlim([0,(train_set['Parch'].max()+1)*3])\n",
    "pp.xlabel('No. of parents+children')\n",
    "pp.ylabel('Fraction')\n",
    "leg = pp.legend((survived_pct, dead_pct), ('Survived', 'Died'), \n",
    "                fontsize = 'medium', loc='upper left')\n",
    "pp.title('No. of parents+children vs. survival', fontsize = \n",
    "         'x-large', y=1.03)\n",
    "pp.tight_layout()\n",
    "print('Fraction of survived / died passengers within a certain bin')\n",
    "pp.show()"
   ]
  },
  {
   "cell_type": "code",
   "execution_count": 35,
   "metadata": {},
   "outputs": [
    {
     "name": "stdout",
     "output_type": "stream",
     "text": [
      "Number of passengers:\n",
      "Fare\n",
      "(-0.001, 20.0]      515\n",
      "(20.0, 40.0]        200\n",
      "(40.0, 60.0]         54\n",
      "(60.0, 80.0]         48\n",
      "(80.0, 100.0]        21\n",
      "(100.0, 120.0]       15\n",
      "(120.0, 140.0]        7\n",
      "(140.0, 160.0]        9\n",
      "(160.0, 180.0]        2\n",
      "(180.0, 200.0]        0\n",
      "(200.0, 220.0]        4\n",
      "(220.0, 240.0]        5\n",
      "(240.0, 512.329]     11\n",
      "Name: Fare, dtype: int64\n",
      "\n",
      "\n",
      "Average survival:\n",
      "Fare\n",
      "(-0.001, 20.0]      0.277670\n",
      "(20.0, 40.0]        0.430000\n",
      "(40.0, 60.0]        0.574074\n",
      "(60.0, 80.0]        0.520833\n",
      "(80.0, 100.0]       0.857143\n",
      "(100.0, 120.0]      0.733333\n",
      "(120.0, 140.0]      0.857143\n",
      "(140.0, 160.0]      0.666667\n",
      "(160.0, 180.0]      1.000000\n",
      "(180.0, 200.0]           NaN\n",
      "(200.0, 220.0]      0.750000\n",
      "(220.0, 240.0]      0.600000\n",
      "(240.0, 512.329]    0.727273\n",
      "Name: Survived, dtype: float64\n"
     ]
    }
   ],
   "source": [
    "bins = np.append(np.arange(0,251,20), train_set[\"Fare\"].max())\n",
    "\n",
    "train_fare_binned = pd.cut(train_set['Fare'], bins, include_lowest=True)\n",
    "train_set[[\"Survived\"]].groupby(train_fare_binned).mean()\n",
    "\n",
    "print('Number of passengers:\\n{}'.format(train_set[\n",
    "    'Fare'].groupby(train_fare_binned).count()))\n",
    "print('\\n')\n",
    "print('Average survival:\\n{}'.format(train_set[\n",
    "    'Survived'].groupby(train_fare_binned).mean()))\n",
    "\n"
   ]
  },
  {
   "cell_type": "code",
   "execution_count": 38,
   "metadata": {},
   "outputs": [
    {
     "name": "stdout",
     "output_type": "stream",
     "text": [
      "Average survival:\n",
      "          Survived\n",
      "Embarked          \n",
      "C         0.553571\n",
      "Q         0.389610\n",
      "S         0.336957\n",
      "\n",
      "\n",
      "         Survived\n",
      "Deck             \n",
      "A        0.466667\n",
      "B        0.744681\n",
      "C        0.593220\n",
      "D        0.757576\n",
      "E        0.757576\n",
      "F        0.583333\n",
      "G        0.500000\n",
      "T        0.000000\n",
      "Unknown  0.299854\n",
      "\n",
      "\n",
      "        Survived\n",
      "Title           \n",
      "Master  0.575000\n",
      "Miss    0.703297\n",
      "Mr      0.158192\n",
      "Mrs     0.775362\n"
     ]
    }
   ],
   "source": [
    "print('Average survival:\\n{}'.format(train_set[['Embarked',\n",
    "    'Survived']].groupby('Embarked').mean()))\n",
    "print('\\n')\n",
    "\n",
    "print('{}'.format(train_set[['Deck',\n",
    "    'Survived']].groupby('Deck').mean()))\n",
    "print('\\n')\n",
    "\n",
    "print('{}'.format(train_set[['Title',\n",
    "    'Survived']].groupby('Title').mean()))"
   ]
  }
 ],
 "metadata": {
  "kernelspec": {
   "display_name": "Python 2",
   "language": "python",
   "name": "python2"
  },
  "language_info": {
   "codemirror_mode": {
    "name": "ipython",
    "version": 2
   },
   "file_extension": ".py",
   "mimetype": "text/x-python",
   "name": "python",
   "nbconvert_exporter": "python",
   "pygments_lexer": "ipython2",
   "version": "2.7.14"
  }
 },
 "nbformat": 4,
 "nbformat_minor": 2
}
